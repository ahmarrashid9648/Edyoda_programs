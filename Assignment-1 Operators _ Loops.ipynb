{
 "cells": [
  {
   "cell_type": "markdown",
   "id": "464aed99",
   "metadata": {},
   "source": [
    "# Q1. Fibonacci series "
   ]
  },
  {
   "cell_type": "code",
   "execution_count": 8,
   "id": "1d6280aa",
   "metadata": {},
   "outputs": [
    {
     "name": "stdout",
     "output_type": "stream",
     "text": [
      "Fibonacci series upto 50:\n",
      "0\n",
      "1\n",
      "1\n",
      "2\n",
      "3\n",
      "5\n",
      "8\n",
      "13\n",
      "21\n",
      "34\n"
     ]
    }
   ],
   "source": [
    "a=0\n",
    "b = 1\n",
    "c = 0\n",
    "print('Fibonacci series upto 50:')\n",
    "print(a)\n",
    "for i in range(1,51):\n",
    "    a=b\n",
    "    b=c\n",
    "    c=a+b\n",
    "    #\n",
    "    if c<50:\n",
    "        print(c)"
   ]
  },
  {
   "cell_type": "markdown",
   "id": "5b219730",
   "metadata": {},
   "source": [
    "# Q2.Write a Python program that accepts a word from the user and reverse it.\n",
    "\n"
   ]
  },
  {
   "cell_type": "code",
   "execution_count": 9,
   "id": "418a3d3a",
   "metadata": {},
   "outputs": [
    {
     "name": "stdout",
     "output_type": "stream",
     "text": [
      "ahmar\n",
      "ramha\n"
     ]
    }
   ],
   "source": [
    "#Taking Input\n",
    "word = input()\n",
    "#Creating a slice that steps backward\n",
    "rev = word[::-1]\n",
    "print(rev)"
   ]
  },
  {
   "cell_type": "markdown",
   "id": "fc99ca1a",
   "metadata": {},
   "source": [
    "# Q3.Write a Python program to count the number of even and odd numbers from a series of numbers"
   ]
  },
  {
   "cell_type": "code",
   "execution_count": 12,
   "id": "b8e7da28",
   "metadata": {},
   "outputs": [
    {
     "name": "stdout",
     "output_type": "stream",
     "text": [
      "Number of even numbers: 5\n",
      "Number of odd numbers: 6\n"
     ]
    }
   ],
   "source": [
    "#List of numbers\n",
    "list_ex = [1,2,3,4,5,6,7,8,9,10,11]\n",
    "even_num,odd_num=0,0\n",
    "#Iterating each number in list\n",
    "for i in list_ex:\n",
    "    if i%2==0:\n",
    "        even_num+=1\n",
    "    else:\n",
    "        odd_num+=1\n",
    "#Printing \n",
    "print('Number of even numbers:',even_num)\n",
    "print('Number of odd numbers:',odd_num)"
   ]
  },
  {
   "cell_type": "code",
   "execution_count": null,
   "id": "3174533a",
   "metadata": {},
   "outputs": [],
   "source": []
  }
 ],
 "metadata": {
  "kernelspec": {
   "display_name": "Python 3",
   "language": "python",
   "name": "python3"
  },
  "language_info": {
   "codemirror_mode": {
    "name": "ipython",
    "version": 3
   },
   "file_extension": ".py",
   "mimetype": "text/x-python",
   "name": "python",
   "nbconvert_exporter": "python",
   "pygments_lexer": "ipython3",
   "version": "3.8.5"
  }
 },
 "nbformat": 4,
 "nbformat_minor": 5
}
