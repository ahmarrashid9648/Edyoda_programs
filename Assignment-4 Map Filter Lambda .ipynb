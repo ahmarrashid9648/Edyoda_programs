{
 "cells": [
  {
   "cell_type": "markdown",
   "id": "1a6b43cc",
   "metadata": {},
   "source": [
    "## Write a Python program to create a lambda function that adds 25 to a given number passed in as an argument. "
   ]
  },
  {
   "cell_type": "code",
   "execution_count": 6,
   "id": "a0b6c677",
   "metadata": {},
   "outputs": [
    {
     "name": "stdout",
     "output_type": "stream",
     "text": [
      "66\n",
      "91\n"
     ]
    }
   ],
   "source": [
    "i = int(input())\n",
    "r = lambda a : a + 25\n",
    "print(r(i))"
   ]
  },
  {
   "cell_type": "markdown",
   "id": "ded0d96c",
   "metadata": {},
   "source": [
    "## Write a Python program to triple all numbers of a given list of integers. Use Python map."
   ]
  },
  {
   "cell_type": "code",
   "execution_count": 12,
   "id": "cbde3fe9",
   "metadata": {},
   "outputs": [
    {
     "name": "stdout",
     "output_type": "stream",
     "text": [
      "Original list:  (1, 2, 3, 4, 5, 6, 7)\n",
      "\n",
      "Triple of list:\n",
      "[3, 6, 9, 12, 15, 18, 21]\n"
     ]
    }
   ],
   "source": [
    "nums = (1, 2, 3, 4, 5, 6, 7) \n",
    "print(\"Original list: \", nums)\n",
    "result = map(lambda x: x*3, nums) \n",
    "print(\"\\nTriple of list:\")\n",
    "print(list(result))"
   ]
  },
  {
   "cell_type": "markdown",
   "id": "b92c0186",
   "metadata": {},
   "source": [
    "## Write a Python program to square the elements of a list using map() function."
   ]
  },
  {
   "cell_type": "code",
   "execution_count": 15,
   "id": "f502afbd",
   "metadata": {},
   "outputs": [
    {
     "name": "stdout",
     "output_type": "stream",
     "text": [
      "Original list:  (4, 5, 2, 9)\n",
      "\n",
      "Square of every element in list:\n",
      "[16, 25, 4, 81]\n"
     ]
    }
   ],
   "source": [
    "nums = (4,5,2,9) \n",
    "print(\"Original list: \", nums)\n",
    "result = map(lambda x: x*x, nums) \n",
    "print(\"\\nSquare of every element in list:\")\n",
    "print(list(result))"
   ]
  },
  {
   "cell_type": "code",
   "execution_count": null,
   "id": "2cd1df92",
   "metadata": {},
   "outputs": [],
   "source": []
  }
 ],
 "metadata": {
  "kernelspec": {
   "display_name": "Python 3",
   "language": "python",
   "name": "python3"
  },
  "language_info": {
   "codemirror_mode": {
    "name": "ipython",
    "version": 3
   },
   "file_extension": ".py",
   "mimetype": "text/x-python",
   "name": "python",
   "nbconvert_exporter": "python",
   "pygments_lexer": "ipython3",
   "version": "3.8.5"
  }
 },
 "nbformat": 4,
 "nbformat_minor": 5
}
