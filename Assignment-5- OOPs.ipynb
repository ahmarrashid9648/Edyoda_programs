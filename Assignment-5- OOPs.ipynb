{
 "cells": [
  {
   "cell_type": "code",
   "execution_count": 7,
   "id": "bf62410b",
   "metadata": {},
   "outputs": [
    {
     "name": "stdout",
     "output_type": "stream",
     "text": [
      "Enter the value of x:66\n",
      "Enter the value of y:5\n",
      "1252332576\n"
     ]
    }
   ],
   "source": [
    "def pow(x, y): \n",
    "    if (y == 0): return 1\n",
    "    elif (int(y % 2) == 0): \n",
    "        return (pow(x, int(y / 2)) *\n",
    "               pow(x, int(y / 2))) \n",
    "    else: \n",
    "        return (x * pow(x, int(y / 2)) *\n",
    "                   pow(x, int(y / 2))) \n",
    "\n",
    "x = int(input(\"Enter the value of x:\"))\n",
    "y = int(input(\"Enter the value of y:\"))\n",
    "print(pow(x, y))"
   ]
  },
  {
   "cell_type": "code",
   "execution_count": null,
   "id": "26316eb0",
   "metadata": {},
   "outputs": [],
   "source": []
  }
 ],
 "metadata": {
  "kernelspec": {
   "display_name": "Python 3",
   "language": "python",
   "name": "python3"
  },
  "language_info": {
   "codemirror_mode": {
    "name": "ipython",
    "version": 3
   },
   "file_extension": ".py",
   "mimetype": "text/x-python",
   "name": "python",
   "nbconvert_exporter": "python",
   "pygments_lexer": "ipython3",
   "version": "3.8.5"
  }
 },
 "nbformat": 4,
 "nbformat_minor": 5
}
