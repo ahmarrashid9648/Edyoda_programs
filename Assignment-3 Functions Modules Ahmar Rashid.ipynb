{
 "cells": [
  {
   "cell_type": "markdown",
   "id": "6a9b7457",
   "metadata": {},
   "source": [
    "## Q1.Write a Python function to sum all the numbers in a list."
   ]
  },
  {
   "cell_type": "code",
   "execution_count": 6,
   "id": "bde5d1fc",
   "metadata": {},
   "outputs": [
    {
     "name": "stdout",
     "output_type": "stream",
     "text": [
      "20\n"
     ]
    }
   ],
   "source": [
    "def sum(number):\n",
    "    total = 0\n",
    "    for x in number:\n",
    "        total += x\n",
    "    return total\n",
    "print(sum((8, 2, 3, 0, 7)))"
   ]
  },
  {
   "cell_type": "markdown",
   "id": "b4aa5d13",
   "metadata": {},
   "source": [
    "## Q2.Write a Python program to reverse a string."
   ]
  },
  {
   "cell_type": "code",
   "execution_count": 11,
   "id": "c87aadb5",
   "metadata": {},
   "outputs": [
    {
     "name": "stdout",
     "output_type": "stream",
     "text": [
      "dcba4321\n"
     ]
    }
   ],
   "source": [
    "def rev(string):\n",
    "    reverse = string[::-1]\n",
    "    return reverse\n",
    "print(rev('1234abcd'))"
   ]
  },
  {
   "cell_type": "markdown",
   "id": "e8399536",
   "metadata": {},
   "source": [
    "## Q3.Write a Python function that accepts a string and calculate the number of upper case letters and lower case letters."
   ]
  },
  {
   "cell_type": "code",
   "execution_count": 18,
   "id": "c64f6cbd",
   "metadata": {},
   "outputs": [
    {
     "name": "stdout",
     "output_type": "stream",
     "text": [
      "skhssj\n",
      "Number Of Uppercase Letters: 0\n",
      "Number Of Lowercase Letters: 6\n"
     ]
    }
   ],
   "source": [
    "def count(str):\n",
    "    upper = lower = 0\n",
    "    for char in str:\n",
    "        if char.islower():\n",
    "            lower+=1\n",
    "        else:\n",
    "            upper+=1\n",
    "    print('Number Of Uppercase Letters:',upper)\n",
    "    print('Number Of Lowercase Letters:',lower)\n",
    "string = input()\n",
    "count(string)"
   ]
  },
  {
   "cell_type": "code",
   "execution_count": null,
   "id": "ab162506",
   "metadata": {},
   "outputs": [],
   "source": []
  }
 ],
 "metadata": {
  "kernelspec": {
   "display_name": "Python 3",
   "language": "python",
   "name": "python3"
  },
  "language_info": {
   "codemirror_mode": {
    "name": "ipython",
    "version": 3
   },
   "file_extension": ".py",
   "mimetype": "text/x-python",
   "name": "python",
   "nbconvert_exporter": "python",
   "pygments_lexer": "ipython3",
   "version": "3.8.5"
  }
 },
 "nbformat": 4,
 "nbformat_minor": 5
}
